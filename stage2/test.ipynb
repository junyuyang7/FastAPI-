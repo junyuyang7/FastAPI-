{
 "cells": [
  {
   "cell_type": "code",
   "execution_count": 24,
   "metadata": {},
   "outputs": [],
   "source": [
    "import pandas as pd\n",
    "\n",
    "data = pd.read_csv(r'C:\\Users\\Junyu Yang\\Desktop\\database.csv')\n",
    "name_id = pd.read_csv(r'C:\\Users\\Junyu Yang\\Desktop\\name_id.csv')"
   ]
  },
  {
   "cell_type": "code",
   "execution_count": 25,
   "metadata": {},
   "outputs": [],
   "source": [
    "name = name_id['name'].tolist()\n",
    "df = pd.merge(data, name_id, left_on='_openid', right_on='openid', how='inner')\n"
   ]
  },
  {
   "cell_type": "code",
   "execution_count": 26,
   "metadata": {},
   "outputs": [
    {
     "data": {
      "text/plain": [
       "_openid                       qid  item  truth  label  name  openid                      \n",
       "oKNuw64KyfFP95R8Lv4TLnzhLPos  399  1     1      0      黎家洛   oKNuw64KyfFP95R8Lv4TLnzhLPos    3\n",
       "oKNuw65tHLKAvGMoTvgCorG1B_GY  114  1     1      6      周齐顺   oKNuw65tHLKAvGMoTvgCorG1B_GY    2\n",
       "                              113  1     0      9      周齐顺   oKNuw65tHLKAvGMoTvgCorG1B_GY    2\n",
       "oKNuw60wGXONc1dttebdrbHuWIPQ  399  1     1      0      叶毅强   oKNuw60wGXONc1dttebdrbHuWIPQ    2\n",
       "oKNuw64KyfFP95R8Lv4TLnzhLPos  36   1     1      8      黎家洛   oKNuw64KyfFP95R8Lv4TLnzhLPos    2\n",
       "                                                                                            ..\n",
       "oKNuw63r_KVxlLQAkAau0CpH57RM  43   0     0      8      肖海萍   oKNuw63r_KVxlLQAkAau0CpH57RM    1\n",
       "                              44   1     1      0      肖海萍   oKNuw63r_KVxlLQAkAau0CpH57RM    1\n",
       "                              45   1     1      0      肖海萍   oKNuw63r_KVxlLQAkAau0CpH57RM    1\n",
       "                              46   0     0      1      肖海萍   oKNuw63r_KVxlLQAkAau0CpH57RM    1\n",
       "oKNuw6zB79PKqns87HpXkLoc2QWQ  199  0     0      1      张心和   oKNuw6zB79PKqns87HpXkLoc2QWQ    1\n",
       "Length: 2526, dtype: int64"
      ]
     },
     "execution_count": 26,
     "metadata": {},
     "output_type": "execute_result"
    }
   ],
   "source": [
    "fitter = df[df['name'].isin(name)]\n",
    "fitter.value_counts()"
   ]
  },
  {
   "cell_type": "code",
   "execution_count": 27,
   "metadata": {},
   "outputs": [],
   "source": [
    "fitter.rename(columns={'qid':'id'}, inplace=True)\n",
    "fitter.sort_values(by=['name','id'], inplace=True)\n",
    "fitter.reset_index(drop=True, inplace=True)"
   ]
  },
  {
   "cell_type": "code",
   "execution_count": 28,
   "metadata": {},
   "outputs": [
    {
     "data": {
      "text/html": [
       "<div>\n",
       "<style scoped>\n",
       "    .dataframe tbody tr th:only-of-type {\n",
       "        vertical-align: middle;\n",
       "    }\n",
       "\n",
       "    .dataframe tbody tr th {\n",
       "        vertical-align: top;\n",
       "    }\n",
       "\n",
       "    .dataframe thead th {\n",
       "        text-align: right;\n",
       "    }\n",
       "</style>\n",
       "<table border=\"1\" class=\"dataframe\">\n",
       "  <thead>\n",
       "    <tr style=\"text-align: right;\">\n",
       "      <th></th>\n",
       "      <th>_openid</th>\n",
       "      <th>id</th>\n",
       "      <th>item</th>\n",
       "      <th>truth</th>\n",
       "      <th>label</th>\n",
       "      <th>name</th>\n",
       "      <th>openid</th>\n",
       "    </tr>\n",
       "  </thead>\n",
       "  <tbody>\n",
       "    <tr>\n",
       "      <th>0</th>\n",
       "      <td>oKNuw60wGXONc1dttebdrbHuWIPQ</td>\n",
       "      <td>0</td>\n",
       "      <td>0</td>\n",
       "      <td>0</td>\n",
       "      <td>0</td>\n",
       "      <td>叶毅强</td>\n",
       "      <td>oKNuw60wGXONc1dttebdrbHuWIPQ</td>\n",
       "    </tr>\n",
       "    <tr>\n",
       "      <th>1</th>\n",
       "      <td>oKNuw60wGXONc1dttebdrbHuWIPQ</td>\n",
       "      <td>1</td>\n",
       "      <td>0</td>\n",
       "      <td>0</td>\n",
       "      <td>1</td>\n",
       "      <td>叶毅强</td>\n",
       "      <td>oKNuw60wGXONc1dttebdrbHuWIPQ</td>\n",
       "    </tr>\n",
       "    <tr>\n",
       "      <th>2</th>\n",
       "      <td>oKNuw60wGXONc1dttebdrbHuWIPQ</td>\n",
       "      <td>2</td>\n",
       "      <td>1</td>\n",
       "      <td>1</td>\n",
       "      <td>0</td>\n",
       "      <td>叶毅强</td>\n",
       "      <td>oKNuw60wGXONc1dttebdrbHuWIPQ</td>\n",
       "    </tr>\n",
       "    <tr>\n",
       "      <th>3</th>\n",
       "      <td>oKNuw60wGXONc1dttebdrbHuWIPQ</td>\n",
       "      <td>3</td>\n",
       "      <td>0</td>\n",
       "      <td>0</td>\n",
       "      <td>0</td>\n",
       "      <td>叶毅强</td>\n",
       "      <td>oKNuw60wGXONc1dttebdrbHuWIPQ</td>\n",
       "    </tr>\n",
       "    <tr>\n",
       "      <th>4</th>\n",
       "      <td>oKNuw60wGXONc1dttebdrbHuWIPQ</td>\n",
       "      <td>4</td>\n",
       "      <td>0</td>\n",
       "      <td>0</td>\n",
       "      <td>0</td>\n",
       "      <td>叶毅强</td>\n",
       "      <td>oKNuw60wGXONc1dttebdrbHuWIPQ</td>\n",
       "    </tr>\n",
       "    <tr>\n",
       "      <th>...</th>\n",
       "      <td>...</td>\n",
       "      <td>...</td>\n",
       "      <td>...</td>\n",
       "      <td>...</td>\n",
       "      <td>...</td>\n",
       "      <td>...</td>\n",
       "      <td>...</td>\n",
       "    </tr>\n",
       "    <tr>\n",
       "      <th>2529</th>\n",
       "      <td>oKNuw64KyfFP95R8Lv4TLnzhLPos</td>\n",
       "      <td>397</td>\n",
       "      <td>1</td>\n",
       "      <td>1</td>\n",
       "      <td>5</td>\n",
       "      <td>黎家洛</td>\n",
       "      <td>oKNuw64KyfFP95R8Lv4TLnzhLPos</td>\n",
       "    </tr>\n",
       "    <tr>\n",
       "      <th>2530</th>\n",
       "      <td>oKNuw64KyfFP95R8Lv4TLnzhLPos</td>\n",
       "      <td>398</td>\n",
       "      <td>1</td>\n",
       "      <td>1</td>\n",
       "      <td>5</td>\n",
       "      <td>黎家洛</td>\n",
       "      <td>oKNuw64KyfFP95R8Lv4TLnzhLPos</td>\n",
       "    </tr>\n",
       "    <tr>\n",
       "      <th>2531</th>\n",
       "      <td>oKNuw64KyfFP95R8Lv4TLnzhLPos</td>\n",
       "      <td>399</td>\n",
       "      <td>1</td>\n",
       "      <td>1</td>\n",
       "      <td>0</td>\n",
       "      <td>黎家洛</td>\n",
       "      <td>oKNuw64KyfFP95R8Lv4TLnzhLPos</td>\n",
       "    </tr>\n",
       "    <tr>\n",
       "      <th>2532</th>\n",
       "      <td>oKNuw64KyfFP95R8Lv4TLnzhLPos</td>\n",
       "      <td>399</td>\n",
       "      <td>1</td>\n",
       "      <td>1</td>\n",
       "      <td>0</td>\n",
       "      <td>黎家洛</td>\n",
       "      <td>oKNuw64KyfFP95R8Lv4TLnzhLPos</td>\n",
       "    </tr>\n",
       "    <tr>\n",
       "      <th>2533</th>\n",
       "      <td>oKNuw64KyfFP95R8Lv4TLnzhLPos</td>\n",
       "      <td>399</td>\n",
       "      <td>1</td>\n",
       "      <td>1</td>\n",
       "      <td>0</td>\n",
       "      <td>黎家洛</td>\n",
       "      <td>oKNuw64KyfFP95R8Lv4TLnzhLPos</td>\n",
       "    </tr>\n",
       "  </tbody>\n",
       "</table>\n",
       "<p>2534 rows × 7 columns</p>\n",
       "</div>"
      ],
      "text/plain": [
       "                           _openid   id  item  truth  label name  \\\n",
       "0     oKNuw60wGXONc1dttebdrbHuWIPQ    0     0      0      0  叶毅强   \n",
       "1     oKNuw60wGXONc1dttebdrbHuWIPQ    1     0      0      1  叶毅强   \n",
       "2     oKNuw60wGXONc1dttebdrbHuWIPQ    2     1      1      0  叶毅强   \n",
       "3     oKNuw60wGXONc1dttebdrbHuWIPQ    3     0      0      0  叶毅强   \n",
       "4     oKNuw60wGXONc1dttebdrbHuWIPQ    4     0      0      0  叶毅强   \n",
       "...                            ...  ...   ...    ...    ...  ...   \n",
       "2529  oKNuw64KyfFP95R8Lv4TLnzhLPos  397     1      1      5  黎家洛   \n",
       "2530  oKNuw64KyfFP95R8Lv4TLnzhLPos  398     1      1      5  黎家洛   \n",
       "2531  oKNuw64KyfFP95R8Lv4TLnzhLPos  399     1      1      0  黎家洛   \n",
       "2532  oKNuw64KyfFP95R8Lv4TLnzhLPos  399     1      1      0  黎家洛   \n",
       "2533  oKNuw64KyfFP95R8Lv4TLnzhLPos  399     1      1      0  黎家洛   \n",
       "\n",
       "                            openid  \n",
       "0     oKNuw60wGXONc1dttebdrbHuWIPQ  \n",
       "1     oKNuw60wGXONc1dttebdrbHuWIPQ  \n",
       "2     oKNuw60wGXONc1dttebdrbHuWIPQ  \n",
       "3     oKNuw60wGXONc1dttebdrbHuWIPQ  \n",
       "4     oKNuw60wGXONc1dttebdrbHuWIPQ  \n",
       "...                            ...  \n",
       "2529  oKNuw64KyfFP95R8Lv4TLnzhLPos  \n",
       "2530  oKNuw64KyfFP95R8Lv4TLnzhLPos  \n",
       "2531  oKNuw64KyfFP95R8Lv4TLnzhLPos  \n",
       "2532  oKNuw64KyfFP95R8Lv4TLnzhLPos  \n",
       "2533  oKNuw64KyfFP95R8Lv4TLnzhLPos  \n",
       "\n",
       "[2534 rows x 7 columns]"
      ]
     },
     "execution_count": 28,
     "metadata": {},
     "output_type": "execute_result"
    }
   ],
   "source": [
    "fitter"
   ]
  },
  {
   "cell_type": "code",
   "execution_count": 29,
   "metadata": {},
   "outputs": [
    {
     "name": "stdout",
     "output_type": "stream",
     "text": [
      "叶毅强 401\n",
      "周继华 137\n",
      "周齐顺 403\n",
      "张心和 200\n",
      "曾湘宇 10\n",
      "李嘉泓 125\n",
      "杨俊毓 401\n",
      "王逸驰 54\n",
      "肖海萍 400\n",
      "黎家洛 403\n"
     ]
    }
   ],
   "source": [
    "for g in fitter.groupby('name'):\n",
    "    print(g[0], len(g[1]))"
   ]
  },
  {
   "cell_type": "code",
   "execution_count": null,
   "metadata": {},
   "outputs": [],
   "source": []
  }
 ],
 "metadata": {
  "kernelspec": {
   "display_name": "studyapp",
   "language": "python",
   "name": "python3"
  },
  "language_info": {
   "codemirror_mode": {
    "name": "ipython",
    "version": 3
   },
   "file_extension": ".py",
   "mimetype": "text/x-python",
   "name": "python",
   "nbconvert_exporter": "python",
   "pygments_lexer": "ipython3",
   "version": "3.7.13"
  }
 },
 "nbformat": 4,
 "nbformat_minor": 2
}
